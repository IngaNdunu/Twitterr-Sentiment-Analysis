{
  "nbformat": 4,
  "nbformat_minor": 0,
  "metadata": {
    "colab": {
      "name": "sentiment_and_nlp.ipynb",
      "provenance": [],
      "collapsed_sections": [],
      "mount_file_id": "1SseE96fevavXcA4C1oI3nd14MGqh2520",
      "authorship_tag": "ABX9TyOi/DpaQERjqA8I6JkRG7L+",
      "include_colab_link": true
    },
    "kernelspec": {
      "name": "python3",
      "display_name": "Python 3"
    },
    "language_info": {
      "name": "python"
    }
  },
  "cells": [
    {
      "cell_type": "markdown",
      "metadata": {
        "id": "view-in-github",
        "colab_type": "text"
      },
      "source": [
        "<a href=\"https://colab.research.google.com/github/IngaNdunu/Twitterr-Sentiment-Analysis/blob/main/sentiment_and_nlp.ipynb\" target=\"_parent\"><img src=\"https://colab.research.google.com/assets/colab-badge.svg\" alt=\"Open In Colab\"/></a>"
      ]
    },
    {
      "cell_type": "code",
      "metadata": {
        "id": "-WQVsqDQdFS-",
        "colab": {
          "base_uri": "https://localhost:8080/"
        },
        "outputId": "b8d038ac-f06e-4cd0-e8b6-ec64b3e945fa"
      },
      "source": [
        "from google.colab import drive\n",
        "drive.mount(\"drive/\")\n"
      ],
      "execution_count": null,
      "outputs": [
        {
          "output_type": "stream",
          "text": [
            "Drive already mounted at drive/; to attempt to forcibly remount, call drive.mount(\"drive/\", force_remount=True).\n"
          ],
          "name": "stdout"
        }
      ]
    },
    {
      "cell_type": "code",
      "metadata": {
        "id": "cbcKC_GMehDa"
      },
      "source": [
        "import os\n",
        "os.chdir(\"/content/drive/MyDrive/NLP\")"
      ],
      "execution_count": null,
      "outputs": []
    },
    {
      "cell_type": "code",
      "metadata": {
        "id": "fe8r1KR2ev3M"
      },
      "source": [
        "ls"
      ],
      "execution_count": null,
      "outputs": []
    },
    {
      "cell_type": "code",
      "metadata": {
        "colab": {
          "base_uri": "https://localhost:8080/",
          "height": 398
        },
        "id": "4Rgm2azee2Ny",
        "outputId": "894c22aa-eea0-4bd6-f053-a82122283255"
      },
      "source": [
        "import re\n",
        "import string\n",
        "import pandas as pd\n",
        "import unicodedata\n",
        "from nltk.corpus import stopwords\n",
        "from gensim.parsing.preprocessing import remove_stopwords\n",
        "from nltk.tokenize import word_tokenize\n",
        "from nltk.stem import WordNetLemmatizer \n",
        "import spacy\n",
        "import nltk\n",
        "#nltk.download(\"all\")\n",
        "import matplotlib.pyplot as plt\n",
        "\n",
        "from textblob import TextBlob\n",
        "\n",
        "#The next bit will import the data\n",
        "df = pd.read_excel(\"/content/drive/MyDrive/NLP/12AprMay2020.xlsx\")\n",
        "df.shape\n",
        "#def punctuation_removal(messy_str):\n",
        "  #try:\n",
        "     #clean_list = [char for char in messy_str if char not in string.punctuation]\n",
        "     #clean_str = ''.join(clean_list)\n",
        "  #except TypeError:\n",
        "    #pass\n",
        "  #return clean_str\n",
        "#df[\"extract\"] = df['extract'].apply(punctuation_removal)\n",
        "\n",
        "#The next bit will do Data Cleaning\n",
        "\n",
        "def remove_numbers(list_text):\n",
        "  list_text_new = []\n",
        "  try:\n",
        "    for i in list(list_text):\n",
        "       if not re.search('\\d',i):\n",
        "          list_text_new.append(i)\n",
        "  except TypeError :\n",
        "    pass\n",
        "  return ''.join(list_text_new)\n",
        "df['extract'] = df['extract'].apply(remove_numbers)\n",
        "\n",
        "#def lower_case(text):\n",
        "  #texts = word_tokenize(text)\n",
        "  #texts_lower = [x.lower() for x in texts]\n",
        "  #return ''.join(texts_lower)\n",
        "#df[\"extract\"] = df['extract'].apply(lower_case)\n",
        "\n",
        "\n",
        "def remove_accented_chars(text):\n",
        "  new_text = unicodedata.normalize(\"NFKD\",text).encode(\"ascii\",\"ignore\").decode(\"utf-8\",\"ignore\")\n",
        "  return new_text\n",
        "def remove_special_chars(text):\n",
        "  pat = r'[^a-zA-z0-9]'\n",
        "  return re.sub(pat,\" \",text)\n",
        "df[\"extract\"] = df[\"extract\"].apply(remove_accented_chars)\n",
        "df['extract'] = df['extract'].apply(remove_special_chars)\n",
        "#df['extract'].isnull().sum()\n",
        "\n",
        "#doing lemmatisation\n",
        "def lemmatisation(text):\n",
        "  lemmatizer  = WordNetLemmatizer() \n",
        "  text = ' '.join([lemmatizer.lemmatize(word) for word  in text.split()])\n",
        "  return text\n",
        "\n",
        "\n",
        "def stemmitisation(text):\n",
        "  stemmer  = nltk.porter.PorterStemmer()\n",
        "  text = ' '.join([stemmer.stem(word) for word in text.split()])\n",
        "  return text\n",
        "df[\"extract\"] = df['extract'].apply(lemmatisation)\n",
        "df['extract'] = df[\"extract\"].apply(stemmitisation)\n",
        "\n",
        "\n",
        "#The next bit will start building the Sentiment Analysis model\n",
        "\n",
        "\n",
        "def polarity(text):\n",
        "  textb = TextBlob(str(text))\n",
        "  pola = textb.sentiment.polarity\n",
        "  if pola == 0:\n",
        "    return \"neutral\"\n",
        "  elif  0 < pola <= 0.3:\n",
        "    return \"weakly  positive\"\n",
        "  elif 0.3<pola<= 0.6:\n",
        "    return \"positive\"\n",
        "  elif 0.6 < pola <= 1:\n",
        "    return \"strongly positive\"\n",
        "  elif -0.3< pola <= 0:\n",
        "    return \"weakly negative\"\n",
        "  elif -0.6 < pola < -0.3:\n",
        "    return \"negative\"\n",
        "  elif -1 < pola <= -0.6:\n",
        "    return \"strongly negative\"\n",
        "\n",
        "df['polarity'] = df['extract'].apply(polarity)\n",
        "\n",
        "\n",
        "neutral = 0\n",
        "weakly_positive = 0\n",
        "strongly_positive = 0\n",
        "positive = 0\n",
        "negative = 0\n",
        "weakly_negative = 0\n",
        "strongly_negative = 0\n",
        "polarity = 0\n",
        "for i in range(0,len(df['extract'])):\n",
        "  textb = TextBlob(str(df['extract'][i]))\n",
        "  polarity += textb.sentiment.polarity\n",
        "  pola = textb.sentiment.polarity\n",
        "  if pola == 0:\n",
        "    neutral += 1\n",
        "  elif  0 < pola <= 0.3:\n",
        "    weakly_positive += 1\n",
        "  elif 0.3<pola<= 0.6:\n",
        "    positive += 1\n",
        "  elif 0.6 < pola <= 1:\n",
        "    strongly_positive += 1\n",
        "  elif -0.3< pola <= 0:\n",
        "    weakly_negative += 1\n",
        "  elif -0.6 < pola < -0.3:\n",
        "    negative += 1\n",
        "  elif -1 < pola <= -0.6:\n",
        "    strongly_negative += 1\n",
        "\n",
        "polarity = polarity / len(df['extract'])\n",
        "\n",
        "\n",
        "def percent(part,full):\n",
        "  temp = 100*float(part)/float(full)\n",
        "  return format(temp,\".2f\")\n",
        "\n",
        "positive = percent(positive,len(df['extract']))\n",
        "weakly_positive = percent(weakly_positive,len(df['extract']))\n",
        "strongly_positive = percent(strongly_positive,len(df['extract']))\n",
        "negative = percent(negative,len(df['extract']))\n",
        "weakly_negative = percent(weakly_negative,len(df['extract']))\n",
        "strongly_negative = percent(strongly_negative,len(df['extract']))\n",
        "neutral = percent(neutral,len(df['extract']))\n",
        "\n",
        "print(\"FINAL REPORT:\")\n",
        "print(str(positive),\"% of the tweets were positive\")\n",
        "print(str(weakly_positive),\"% of the tweets were weakly positive\")\n",
        "print(str(strongly_positive),\"% of the tweets were strongly positive\")\n",
        "print(str(negative),\"% of the tweets were negative\")\n",
        "print(str(weakly_negative),\"% of the tweets were weakly negative\")\n",
        "print(str(strongly_negative),\"% of the tweets were strongly negative\")\n",
        "print(str(neutral),\"% of the tweets were neutral\")\n",
        "\n",
        "sizes = [positive,weakly_positive,strongly_positive,neutral,negative,weakly_negative,strongly_negative]\n",
        "colors = [\"green\",\"yellow\",\"salmon\",\"red\",\"blue\",\"black\",\"gold\"]\n",
        "labels = [\"positive\"+\":\"+str(positive)+\"%\",\"weakly positive\"+\":\" +str(weakly_positive)+\"%\",\"strongly positive\"+\":\"+str(strongly_positive)+\"%\",\"neutral\"+\":\"+str(neutral)+\"%\",\"negative\"+\":\"+str(negative)+\"%\",\"weakly negative\"+\":\"+str(weakly_negative)+\"%\",\"strongly negative\"+\":\"+str(strongly_negative)+\"%\"]\n",
        "\n",
        "plt.pie(sizes,labels = labels,colors = colors)\n",
        "plt.legend(labels)\n",
        "plt.title(\"Pie Chart of Twitter Sentiments regarding Absa\")\n",
        "plt.show()\n",
        "\n",
        "\n",
        "\n",
        "\n",
        "\n",
        "\n",
        "\n",
        "\n"
      ],
      "execution_count": null,
      "outputs": [
        {
          "output_type": "stream",
          "text": [
            "FINAL REPORT:\n",
            "9.90 % of the tweets were positive\n",
            "14.52 % of the tweets were weakly positive\n",
            "4.30 % of the tweets were strongly positive\n",
            "2.84 % of the tweets were negative\n",
            "6.87 % of the tweets were weakly negative\n",
            "0.44 % of the tweets were strongly negative\n",
            "60.47 % of the tweets were neutral\n"
          ],
          "name": "stdout"
        },
        {
          "output_type": "display_data",
          "data": {
            "image/png": "[encoded data removed]",
            "text/plain": [
              "<Figure size 432x288 with 1 Axes>"
            ]
          },
          "metadata": {
            "tags": []
          }
        }
      ]
    }
  ]
}